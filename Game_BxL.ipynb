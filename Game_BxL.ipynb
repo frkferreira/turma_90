{
 "cells": [
  {
   "cell_type": "code",
   "execution_count": 3,
   "id": "213a5cf0",
   "metadata": {
    "ExecuteTime": {
     "end_time": "2022-10-24T12:25:45.106405Z",
     "start_time": "2022-10-24T12:25:39.939447Z"
    },
    "code_folding": []
   },
   "outputs": [
    {
     "name": "stdout",
     "output_type": "stream",
     "text": [
      "Você gostaria de falar de quem: Bolsonaro ou Lula:asd\n",
      "Por favor, Lula ou BolsonaroLula\n"
     ]
    }
   ],
   "source": [
    "# 1) Definição da Classe Eleição onde será criado os parâmetros:\n",
    "#    - self.bolsonaro\n",
    "#    - self.lula\n",
    "# 2) Criação da classe que criar uma interação com o usuário\n",
    "#    - pergunta de interação com o usuário\n",
    "#    - Se nome escolhido é 'Bolsonaro', segue combo if\n",
    "#      - inicia outra rodada de pergunta\n",
    "#      - for loop para iteração da resposta com o dicionário\n",
    "#    - Se nome escolhido é 'Lula', segue combo else \n",
    "#      - inicia outra rodada de pergunta\n",
    "#      - for loop para iteração da resposta com o dicionário\n",
    "\n",
    "\n",
    "class Eleicao:\n",
    "    def __init__(self):\n",
    "        self.bolsonaro = {'Rachadinha': 'Rachadinha não é comigo, pergunte ao Queirós', \n",
    "             'Orçamento secreto': 'É coisa do Maia, mas eu tenho 13 nomes do PT que receberam valores', \n",
    "             'Covid': 'Eu não sou coveiro. Sou messias, mas não faço milagres, talkey'\n",
    "            }\n",
    "        self.lula = {'Petrolão': 'Eu não sabia, mas é culpa da Marisa', \n",
    "                'Mensalão': 'Eu não sabia, mas vamos falar do pobre',\n",
    "                'Sítio de Atibaia': 'A Lava Jato já confirmou que isso aí é do Bittar'\n",
    "               }\n",
    "    \n",
    "    # tratamento da resposta incial\n",
    "    def candidato(self):\n",
    "        \n",
    "        '''\n",
    "        ***DOCUMENTAÇÃO***\n",
    "        \n",
    "        Essa função tem por objetivo tratar a resposta do usuário após o input:\n",
    "        - O usuário responde e a função vai executar as seguintes tarefas:\n",
    "          - (i)   lower(): vai garantir que a resposta do usuário esteja em letras minusculas;\n",
    "          - (ii)  vai verificar se resposta é  'bolsonaro' ou 'lula';\n",
    "          - (iii) em caso de resposta diferente, o programa informa a resposta correta; e\n",
    "          - (iv)  retorna para a 'função candidato'.\n",
    "          \n",
    "        '''\n",
    "        pergunta = input(\"Você gostaria de falar de quem: Bolsonaro ou Lula:\")\n",
    "        if pergunta.lower() != 'bolsonaro' and pergunta.lower() != 'lula': # o and precisa dar falso para n entrar no if\n",
    "            print('Por favor, apenas digite Lula ou Bolsonaro')\n",
    "            self.candidato()\n",
    "        else:\n",
    "            self.iniciar(pergunta.lower())\n",
    "            \n",
    "    \n",
    "    def iniciar(self, pergunta):\n",
    "        \n",
    "        '''\n",
    "        ***DOCUMENTAÇÃO***\n",
    "        \n",
    "        Após tratado o código na função candidato,  a 'função iniciar' irá iniciar.\n",
    "        Essa função tem por objetivo interagir com o usuário em formas de perguntas e respostas.\n",
    "        \n",
    "        1) IF/ELIF: diferencia entre as respostas se Bolsonaro ou Lula:\n",
    "            - a resposta é armazenada em uma variável (candidato_escolhido).\n",
    "            \n",
    "        2) INPUT: Ao identificar a resposta, :\n",
    "            - nova rodada de perguntas padrões é apresentada;\n",
    "            - o programa transforma as chaves do dicionários em uma lista.\n",
    "        \n",
    "        3) IF/ELSE: verifica se a resposta do usuário está entre os temas padrões:\n",
    "            - se a resposta não está no dicionário,\n",
    "              o BLOCO IF inicia informando novamente o usuário sobre as perguntas padrões;\n",
    "            - se a resposta se está no dicionário,\n",
    "              o programa executa o BLOCO ELSE e imprime a resposta do candidato.\n",
    "            ''' \n",
    "        \n",
    "        if pergunta == 'bolsonaro':\n",
    "            candidato_escolhido = self.bolsonaro\n",
    "        elif pergunta == 'lula':\n",
    "            candidato_escolhido = self.lula\n",
    "            \n",
    "        x = input(f'Pergunte temas sobre {list(candidato_escolhido.keys())}: ')\n",
    "            \n",
    "        if x not in candidato_escolhido.keys():\n",
    "            print('Por favor, pergunte sobre os temas dados')\n",
    "            self.iniciar(pergunta)\n",
    "        else:\n",
    "            print(f'Entendi, você quer falar de {x}.')\n",
    "            print('\\n-----------------------\\n')\n",
    "            \n",
    "            print(f'{pergunta} responde: {candidato_escolhido[x]}')  \n",
    "\n",
    "       \n",
    "decida = Eleicao()\n",
    "decida.candidato()"
   ]
  },
  {
   "cell_type": "code",
   "execution_count": null,
   "id": "c92d16b5",
   "metadata": {},
   "outputs": [],
   "source": []
  }
 ],
 "metadata": {
  "kernelspec": {
   "display_name": "Python 3 (ipykernel)",
   "language": "python",
   "name": "python3"
  },
  "language_info": {
   "codemirror_mode": {
    "name": "ipython",
    "version": 3
   },
   "file_extension": ".py",
   "mimetype": "text/x-python",
   "name": "python",
   "nbconvert_exporter": "python",
   "pygments_lexer": "ipython3",
   "version": "3.9.12"
  },
  "toc": {
   "base_numbering": 1,
   "nav_menu": {},
   "number_sections": true,
   "sideBar": true,
   "skip_h1_title": false,
   "title_cell": "Table of Contents",
   "title_sidebar": "Contents",
   "toc_cell": false,
   "toc_position": {},
   "toc_section_display": true,
   "toc_window_display": false
  },
  "varInspector": {
   "cols": {
    "lenName": 16,
    "lenType": 16,
    "lenVar": 40
   },
   "kernels_config": {
    "python": {
     "delete_cmd_postfix": "",
     "delete_cmd_prefix": "del ",
     "library": "var_list.py",
     "varRefreshCmd": "print(var_dic_list())"
    },
    "r": {
     "delete_cmd_postfix": ") ",
     "delete_cmd_prefix": "rm(",
     "library": "var_list.r",
     "varRefreshCmd": "cat(var_dic_list()) "
    }
   },
   "types_to_exclude": [
    "module",
    "function",
    "builtin_function_or_method",
    "instance",
    "_Feature"
   ],
   "window_display": false
  }
 },
 "nbformat": 4,
 "nbformat_minor": 5
}
