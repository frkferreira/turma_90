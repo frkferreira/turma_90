{
 "cells": [
  {
   "cell_type": "code",
   "execution_count": 3,
   "id": "213a5cf0",
   "metadata": {
    "ExecuteTime": {
     "end_time": "2022-10-24T12:25:45.106405Z",
     "start_time": "2022-10-24T12:25:39.939447Z"
    },
    "code_folding": []
   },
   "outputs": [
    {
     "name": "stdout",
     "output_type": "stream",
     "text": [
      "Você gostaria de falar de quem: Bolsonaro ou Lula:asd\n",
      "Por favor, Lula ou BolsonaroLula\n"
     ]
    }
   ],
   "source": [
    "# 1) Definição da Classe Eleição onde será criado os parâmetros:\n",
    "#    - self.bolsonaro\n",
    "#    - self.lula\n",
    "# 2) Criação da classe que criar uma interação com o usuário\n",
    "#    - pergunta de interação com o usuário\n",
    "#    - Se nome escolhido é 'Bolsonaro', segue combo if\n",
    "#      - inicia outra rodada de pergunta\n",
    "#      - for loop para iteração da resposta com o dicionário\n",
    "#    - Se nome escolhido é 'Lula', segue combo else \n",
    "#      - inicia outra rodada de pergunta\n",
    "#      - for loop para iteração da resposta com o dicionário\n",
    "\n",
    "\n",
    "class Eleicao:\n",
    "    def __init__(self):\n",
    "        self.bolsonaro = {'Rachadinha': 'Rachadinha não é comigo, pergunte ao Queirós', \n",
    "             'Orçamento secreto': 'É coisa do Maia, mas eu tenho 13 nomes do PT que receberam valores', \n",
    "             'Covid': 'Eu não sou coveiro. Sou messias, mas não faço milagres, talkey'\n",
    "            }\n",
    "        self.lula = {'Petrolão': 'Eu não sabia, mas é culpa da Marisa', \n",
    "                'Mensalão': 'Eu não sabia, mas vamos falar do pobre',\n",
    "                'Sítio de Atibaia': 'A Lava Jato já confirmou que isso aí é do Bittar'\n",
    "               }\n",
    "       \n",
    "    def iniciar(self):\n",
    "        '''Essa função interage com o usuário\n",
    "        em formas de perguntas e respostas'''\n",
    "        \n",
    "        pergunta = input(\"Você gostaria de falar de quem: Bolsonaro ou Lula:\")\n",
    "                \n",
    "        if pergunta == 'Bolsonaro':\n",
    "            x = input('Pergunte temas sobre Rachadinha, Orçamento secreto, Mortes por covid: ')\n",
    "            print(f'Entendi, {x}.')\n",
    "            print('\\n-----------------------\\n')\n",
    "            for key, value in self.bolsonaro.items():\n",
    "                if x in key:\n",
    "                    print(f'Bolsonaro responde: {value}')  \n",
    "\n",
    "        elif pergunta == 'Lula':\n",
    "            x = input('Pergunte temas sobre Petrolão, Mensalão, Sítio de Atibaia: ')\n",
    "            print('\\n-----------------------')\n",
    "            print(f'Entendi, {x}.')\n",
    "            print('\\n-----------------------')\n",
    "            for key, value in self.lula.items():\n",
    "                if x in key:\n",
    "                    print(f'Lula responde: {value}')\n",
    "                    \n",
    "decida = Eleicao()\n",
    "decida.iniciar()"
   ]
  },
  {
   "cell_type": "code",
   "execution_count": null,
   "id": "c92d16b5",
   "metadata": {},
   "outputs": [],
   "source": []
  }
 ],
 "metadata": {
  "kernelspec": {
   "display_name": "Python 3 (ipykernel)",
   "language": "python",
   "name": "python3"
  },
  "language_info": {
   "codemirror_mode": {
    "name": "ipython",
    "version": 3
   },
   "file_extension": ".py",
   "mimetype": "text/x-python",
   "name": "python",
   "nbconvert_exporter": "python",
   "pygments_lexer": "ipython3",
   "version": "3.9.12"
  },
  "toc": {
   "base_numbering": 1,
   "nav_menu": {},
   "number_sections": true,
   "sideBar": true,
   "skip_h1_title": false,
   "title_cell": "Table of Contents",
   "title_sidebar": "Contents",
   "toc_cell": false,
   "toc_position": {},
   "toc_section_display": true,
   "toc_window_display": false
  },
  "varInspector": {
   "cols": {
    "lenName": 16,
    "lenType": 16,
    "lenVar": 40
   },
   "kernels_config": {
    "python": {
     "delete_cmd_postfix": "",
     "delete_cmd_prefix": "del ",
     "library": "var_list.py",
     "varRefreshCmd": "print(var_dic_list())"
    },
    "r": {
     "delete_cmd_postfix": ") ",
     "delete_cmd_prefix": "rm(",
     "library": "var_list.r",
     "varRefreshCmd": "cat(var_dic_list()) "
    }
   },
   "types_to_exclude": [
    "module",
    "function",
    "builtin_function_or_method",
    "instance",
    "_Feature"
   ],
   "window_display": false
  }
 },
 "nbformat": 4,
 "nbformat_minor": 5
}
